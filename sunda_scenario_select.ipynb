{
 "cells": [
  {
   "cell_type": "code",
   "execution_count": null,
   "metadata": {
    "vscode": {
     "languageId": "r"
    }
   },
   "outputs": [],
   "source": [
    "#PTHA18 library\n",
    "library(ncdf4)\n",
    "library(rptha)\n"
   ]
  },
  {
   "cell_type": "code",
   "execution_count": 6,
   "metadata": {
    "vscode": {
     "languageId": "r"
    }
   },
   "outputs": [],
   "source": [
    "#PTHA18 access codes, needed for functions below\n",
    "ptha18 = new.env()\n",
    "source('../ptha/ptha_access/get_PTHA_results.R', local=ptha18, chdir=TRUE)"
   ]
  },
  {
   "cell_type": "code",
   "execution_count": 7,
   "metadata": {
    "vscode": {
     "languageId": "r"
    }
   },
   "outputs": [],
   "source": [
    "# R session resulting from \"compute_rates_all_sources.R\", needed for functions below\n",
    "ptha18_source_rate_env = new.env()\n",
    "source('../ptha/ptha_access/get_detailed_PTHA18_source_zone_info.R',  local=ptha18_source_rate_env, chdir=TRUE)"
   ]
  },
  {
   "cell_type": "code",
   "execution_count": 8,
   "metadata": {
    "vscode": {
     "languageId": "r"
    }
   },
   "outputs": [],
   "source": [
    "# Get the scenario rates for each model.\n",
    "source_zone = 'sunda2'\n",
    "#[47] \"sunda2_java\"                 \"sunda2_sumatra\"             \n",
    "#[49] \"sunda2_andaman\"              \"sunda2_arakan\"              \n",
    "\n",
    "REPRODUCIBLE_SEED = 1234\n",
    "\n",
    "sz_full      = ptha18_source_rate_env$get_PTHA18_scenario_conditional_probability_and_rates_on_segment(source_zone, '')\n",
    "sz_java     = ptha18_source_rate_env$get_PTHA18_scenario_conditional_probability_and_rates_on_segment(source_zone, 'java')\n",
    "sz_sumatra  = ptha18_source_rate_env$get_PTHA18_scenario_conditional_probability_and_rates_on_segment(source_zone, 'sumatra')\n",
    "sz_andaman = ptha18_source_rate_env$get_PTHA18_scenario_conditional_probability_and_rates_on_segment(source_zone, 'andaman')\n",
    "sz_arakan = ptha18_source_rate_env$get_PTHA18_scenario_conditional_probability_and_rates_on_segment(source_zone, 'arakan')"
   ]
  },
  {
   "cell_type": "code",
   "execution_count": 9,
   "metadata": {
    "vscode": {
     "languageId": "r"
    }
   },
   "outputs": [],
   "source": [
    "# Weighted sum of 'unsegmented' and 'union of segments' rates as used in PTHA18\n",
    "back_calculated_HS_rates_combination = \n",
    "    0.5*(sz_full$HS_event_rates) + \n",
    "    0.5*(sz_java$HS_event_rates + \n",
    "         sz_sumatra$HS_event_rates + \n",
    "         sz_andaman$HS_event_rates +\n",
    "         sz_arakan$HS_event_rates)\n",
    "\n",
    "# Get the sampling effort in each magnitude-bin, as a function\n",
    "samples_per_Mw_data = read.csv('Non_uniform_sampling_effort_compromise_stratifiedImportance.csv')\n",
    "samples_per_Mw_FUNCTION = approxfun(samples_per_Mw_data[,1], ceiling(samples_per_Mw_data[,2]), method='constant')"
   ]
  },
  {
   "cell_type": "code",
   "execution_count": 10,
   "metadata": {
    "vscode": {
     "languageId": "r"
    }
   },
   "outputs": [
    {
     "data": {
      "text/html": [
       "<strong>pdf:</strong> 2"
      ],
      "text/latex": [
       "\\textbf{pdf:} 2"
      ],
      "text/markdown": [
       "**pdf:** 2"
      ],
      "text/plain": [
       "pdf \n",
       "  2 "
      ]
     },
     "metadata": {},
     "output_type": "display_data"
    }
   ],
   "source": [
    "check_consistency_with_PTHA18<-function(){\n",
    "    # Double check consistency with PTHA18 files.\n",
    "\n",
    "    nc_file  = paste0(ptha18$config_env$.GDATA_OPENDAP_BASE_LOCATION,\n",
    "        'SOURCE_ZONES/', source_zone, '/TSUNAMI_EVENTS/all_', 'stochastic',\n",
    "        '_slip_earthquake_events_', source_zone, '.nc')\n",
    "    fid = nc_open(nc_file, readunlim=FALSE)\n",
    "    rates_full_source = ncvar_get(fid, 'rate_annual')\n",
    "    nc_close(fid)\n",
    "\n",
    "    # All going well, these two things should be equal to within acceptable\n",
    "    # floating-point differences. Yes, they are.\n",
    "    plot(back_calculated_HS_rates_combination, rates_full_source)\n",
    "    abline(0, 1, col='red')\n",
    "    # Plot the difference -- should be super small -- yes it is.\n",
    "    plot(back_calculated_HS_rates_combination - rates_full_source)\n",
    "}\n",
    "pdf(paste0('check_consistency_rates_ptha18_', source_zone, '.pdf'), width=9, height=6)\n",
    "check_consistency_with_PTHA18()\n",
    "dev.off()\n"
   ]
  },
  {
   "cell_type": "code",
   "execution_count": 11,
   "metadata": {
    "vscode": {
     "languageId": "r"
    }
   },
   "outputs": [],
   "source": [
    "# Get the peak-stage at a point near Perth -- we will use this to measure the \n",
    "# scenario 'size' and influence sampling.\n",
    "event_peak_stage_at_refpoint = ptha18$get_peak_stage_at_point_for_each_event(\n",
    "    hazard_point_gaugeID = 6638.3,\n",
    "    slip_type='stochastic',\n",
    "    all_source_names=source_zone)\n",
    "# Sampling will be done with the following weights (but they are stratified by\n",
    "# Mw and converted to a pmf within the random sampling function)\n",
    "EVENT_IMPORTANCE_WEIGHTED_SAMPLING_PROBS = \n",
    "    (event_peak_stage_at_refpoint[[source_zone]]$max_stage * \n",
    "     back_calculated_HS_rates_combination)\n",
    "\n",
    "# We will use these nearby points for testing -- can we reproduce the stage-vs-rate curve\n",
    "# with the randomly sampled scenarios? \n",
    "alternative1_event_peak_stage_at_refpoint = ptha18$get_peak_stage_at_point_for_each_event(\n",
    "    hazard_point_gaugeID = 6639.3, # Near Mandurah\n",
    "    slip_type='stochastic',\n",
    "    all_source_names=source_zone)\n",
    "alternative2_event_peak_stage_at_refpoint = ptha18$get_peak_stage_at_point_for_each_event(\n",
    "    hazard_point_gaugeID = 6641.3, # Near Jurian Bay\n",
    "    slip_type='stochastic',\n",
    "    all_source_names=source_zone)\n",
    "alternative3_event_peak_stage_at_refpoint = ptha18$get_peak_stage_at_point_for_each_event(\n",
    "    hazard_point_gaugeID = 6640.3, # Near Geraldton\n",
    "    slip_type='stochastic',\n",
    "    all_source_names=source_zone)"
   ]
  },
  {
   "cell_type": "code",
   "execution_count": 12,
   "metadata": {
    "vscode": {
     "languageId": "r"
    }
   },
   "outputs": [],
   "source": [
    "# Make a plot of max-stage vs exceedance-rate according to the random sample of scenarios,\n",
    "# and compare with the full set of scenarios. \n",
    "#\n",
    "# Aim is to reproduce the full results well, with many fewer scenarios.\n",
    "# \n",
    "plot_scenario_stages_with_different_scenario_size_weightings<-function(\n",
    "    event_peak_stage, \n",
    "    event_Mw, \n",
    "    event_rates,\n",
    "    event_importance_weighted_sampling_probs = EVENT_IMPORTANCE_WEIGHTED_SAMPLING_PROBS,\n",
    "    samples_per_Mw = samples_per_Mw_FUNCTION,\n",
    "    event_peak_stage_alt1 = alternative1_event_peak_stage_at_refpoint[[source_zone]]$max_stage,\n",
    "    event_peak_stage_alt2 = alternative2_event_peak_stage_at_refpoint[[source_zone]]$max_stage,\n",
    "    event_peak_stage_alt3 = alternative3_event_peak_stage_at_refpoint[[source_zone]]$max_stage,\n",
    "    pdf_output_name_extra = ''\n",
    "    ){\n",
    "\n",
    "    pdf(paste0('Effect_of_weighting_power_on_samples_fig_', pdf_output_name_extra, '.pdf'), \n",
    "        width=12, height=9)\n",
    "\n",
    "    # Range of scenarios in PTHA18\n",
    "    max_mw_limit = 9.65\n",
    "    min_mw_limit = 7.15\n",
    "\n",
    "    set.seed(REPRODUCIBLE_SEED) # Reproducible random seed\n",
    "\n",
    "    random_scenario_info = ptha18$randomly_sample_scenarios_by_Mw_and_rate(\n",
    "        event_rates,\n",
    "        event_Mw,\n",
    "        event_importance_weighted_sampling_probs = event_importance_weighted_sampling_probs,\n",
    "        samples_per_Mw = samples_per_Mw,\n",
    "        mw_limits = c(min_mw_limit, max_mw_limit))\n",
    "\n",
    "    random_scenario_inds = random_scenario_info$inds\n",
    "    # Look at the stage values at the gauge offshore of Perth\n",
    "    random_scenario_stages = event_peak_stage[random_scenario_inds]\n",
    "    random_scenario_rates = random_scenario_info$importance_sampling_scenario_rates_basic\n",
    "    random_scenario_Mws = random_scenario_info$mw\n",
    "\n",
    "    #\n",
    "    # Check if we can reproduce max-stage-vs-exceedance-rate curves\n",
    "    #\n",
    "    exrate_plot<-function(stage, rate, add=FALSE, ...){\n",
    "\n",
    "        all_stages = seq(min(stage)-0.01, max(stage)-0.01, len=10000)\n",
    "        all_rates = sapply(all_stages, function(x) sum(rate*(stage>x)))\n",
    "\n",
    "        if(!add){\n",
    "            plot(all_stages, all_rates, log='xy', xlim=c(0.01, 20), ylim=c(1e-06, 1), ...)\n",
    "            abline(v=c(1, 5, 10), col='red')\n",
    "            abline(h=1/c(100, 1000, 10000), col='red')\n",
    "        }else{\n",
    "            points(all_stages, all_rates, ...)\n",
    "        }\n",
    "    }\n",
    "\n",
    "    # Check if we can reproduce the stage-vs-exceedance-rate curve\n",
    "    par(mfrow=c(2,2))\n",
    "    exrate_plot(event_peak_stage, event_rates, t='l', \n",
    "                main=paste0('Reference point; Nunique=', \n",
    "                            length(unique(random_scenario_inds))))\n",
    "    exrate_plot(random_scenario_stages, random_scenario_rates, \n",
    "                add=TRUE, col='green', t='l')\n",
    "\n",
    "    # Check a nearby site.\n",
    "    random_scenario_stages_alt1 = event_peak_stage_alt1[random_scenario_inds]\n",
    "    exrate_plot(event_peak_stage_alt1, event_rates, t='l', main='Alternative 1')\n",
    "    exrate_plot(random_scenario_stages_alt1, random_scenario_rates, \n",
    "                add=TRUE, col='green', t='l')\n",
    "    # An another nearby site\n",
    "    random_scenario_stages_alt2 = event_peak_stage_alt2[random_scenario_inds]\n",
    "    exrate_plot(event_peak_stage_alt2, event_rates, t='l', main='Alternative 2')\n",
    "    exrate_plot(random_scenario_stages_alt2, random_scenario_rates, \n",
    "                add=TRUE, col='green', t='l')\n",
    "    # An another nearby site\n",
    "    random_scenario_stages_alt3 = event_peak_stage_alt3[random_scenario_inds]\n",
    "    exrate_plot(event_peak_stage_alt3, event_rates, t='l', main='Alternative 3')\n",
    "    exrate_plot(random_scenario_stages_alt3, random_scenario_rates, \n",
    "                add=TRUE, col='green', t='l')\n",
    "\n",
    "    par(mfrow=c(2,2))\n",
    "    stages = c(1, 2, 5, 10)\n",
    "    for(i in 1:length(stages)){\n",
    "        percentiles = seq(0.001, 0.999, by=0.001)\n",
    "        # Find possible events that exceed stages[i]\n",
    "        k = which(event_peak_stage > stages[i] & event_rates > 0)\n",
    "\n",
    "        # Plot if we can\n",
    "        if(length(k) > 0){\n",
    "            mws = weighted_percentile(event_Mw[k], event_rates[k], percentiles)\n",
    "            plot(percentiles, mws, t='l')\n",
    "\n",
    "            title(paste0('Mw distribution with stage > ', stages[i]))\n",
    "        }else{\n",
    "            plot(percentiles, percentiles*0, col='white')\n",
    "            title(paste0('No scenarios with stage > ', stages[i]))\n",
    "        }\n",
    "\n",
    "        # Add the random scenarios to the plot, if we can.\n",
    "        k = which(random_scenario_stages > stages[i])\n",
    "        if(length(k) > 0){\n",
    "            mws = weighted_percentile(random_scenario_Mws[k], \n",
    "                random_scenario_rates[k], percentiles)\n",
    "            points(percentiles, mws, t='l', col='red')\n",
    "        }else{\n",
    "            title(sub='no random scenarios were found', col.sub='red')\n",
    "        }\n",
    "\n",
    "    }\n",
    "    dev.off()\n",
    "\n",
    "    return(invisible(random_scenario_inds))\n",
    "}"
   ]
  },
  {
   "cell_type": "code",
   "execution_count": 13,
   "metadata": {
    "vscode": {
     "languageId": "r"
    }
   },
   "outputs": [
    {
     "name": "stderr",
     "output_type": "stream",
     "text": [
      "Warning message in xy.coords(x, y, xlabel, ylabel, log):\n",
      "“2 x values <= 0 omitted from logarithmic plot”\n",
      "Warning message in xy.coords(x, y, xlabel, ylabel, log):\n",
      "“5352 y values <= 0 omitted from logarithmic plot”\n",
      "Warning message in xy.coords(x, y, xlabel, ylabel, log):\n",
      "“2 x values <= 0 omitted from logarithmic plot”\n",
      "Warning message in xy.coords(x, y, xlabel, ylabel, log):\n",
      "“4949 y values <= 0 omitted from logarithmic plot”\n",
      "Warning message in xy.coords(x, y, xlabel, ylabel, log):\n",
      "“5 x values <= 0 omitted from logarithmic plot”\n",
      "Warning message in xy.coords(x, y, xlabel, ylabel, log):\n",
      "“4879 y values <= 0 omitted from logarithmic plot”\n",
      "Warning message in xy.coords(x, y, xlabel, ylabel, log):\n",
      "“4 x values <= 0 omitted from logarithmic plot”\n",
      "Warning message in xy.coords(x, y, xlabel, ylabel, log):\n",
      "“5011 y values <= 0 omitted from logarithmic plot”\n",
      "Warning message in xy.coords(x, y, xlabel, ylabel, log):\n",
      "“2 x values <= 0 omitted from logarithmic plot”\n",
      "Warning message in xy.coords(x, y, xlabel, ylabel, log):\n",
      "“6944 y values <= 0 omitted from logarithmic plot”\n",
      "Warning message in xy.coords(x, y, xlabel, ylabel, log):\n",
      "“2 x values <= 0 omitted from logarithmic plot”\n",
      "Warning message in xy.coords(x, y, xlabel, ylabel, log):\n",
      "“7315 y values <= 0 omitted from logarithmic plot”\n",
      "Warning message in xy.coords(x, y, xlabel, ylabel, log):\n",
      "“5 x values <= 0 omitted from logarithmic plot”\n",
      "Warning message in xy.coords(x, y, xlabel, ylabel, log):\n",
      "“6769 y values <= 0 omitted from logarithmic plot”\n",
      "Warning message in xy.coords(x, y, xlabel, ylabel, log):\n",
      "“4 x values <= 0 omitted from logarithmic plot”\n",
      "Warning message in xy.coords(x, y, xlabel, ylabel, log):\n",
      "“7777 y values <= 0 omitted from logarithmic plot”\n",
      "Warning message in xy.coords(x, y, xlabel, ylabel, log):\n",
      "“2 x values <= 0 omitted from logarithmic plot”\n",
      "Warning message in xy.coords(x, y, xlabel, ylabel, log):\n",
      "“5458 y values <= 0 omitted from logarithmic plot”\n",
      "Warning message in xy.coords(x, y, xlabel, ylabel, log):\n",
      "“2 x values <= 0 omitted from logarithmic plot”\n",
      "Warning message in xy.coords(x, y, xlabel, ylabel, log):\n",
      "“4949 y values <= 0 omitted from logarithmic plot”\n",
      "Warning message in xy.coords(x, y, xlabel, ylabel, log):\n",
      "“5 x values <= 0 omitted from logarithmic plot”\n",
      "Warning message in xy.coords(x, y, xlabel, ylabel, log):\n",
      "“4879 y values <= 0 omitted from logarithmic plot”\n",
      "Warning message in xy.coords(x, y, xlabel, ylabel, log):\n",
      "“4 x values <= 0 omitted from logarithmic plot”\n",
      "Warning message in xy.coords(x, y, xlabel, ylabel, log):\n",
      "“5011 y values <= 0 omitted from logarithmic plot”\n",
      "Warning message in xy.coords(x, y, xlabel, ylabel, log):\n",
      "“2 x values <= 0 omitted from logarithmic plot”\n",
      "Warning message in xy.coords(x, y, xlabel, ylabel, log):\n",
      "“5352 y values <= 0 omitted from logarithmic plot”\n",
      "Warning message in xy.coords(x, y, xlabel, ylabel, log):\n",
      "“2 x values <= 0 omitted from logarithmic plot”\n",
      "Warning message in xy.coords(x, y, xlabel, ylabel, log):\n",
      "“4949 y values <= 0 omitted from logarithmic plot”\n",
      "Warning message in xy.coords(x, y, xlabel, ylabel, log):\n",
      "“5 x values <= 0 omitted from logarithmic plot”\n",
      "Warning message in xy.coords(x, y, xlabel, ylabel, log):\n",
      "“4879 y values <= 0 omitted from logarithmic plot”\n",
      "Warning message in xy.coords(x, y, xlabel, ylabel, log):\n",
      "“4 x values <= 0 omitted from logarithmic plot”\n",
      "Warning message in xy.coords(x, y, xlabel, ylabel, log):\n",
      "“5011 y values <= 0 omitted from logarithmic plot”\n",
      "Warning message in xy.coords(x, y, xlabel, ylabel, log):\n",
      "“2 x values <= 0 omitted from logarithmic plot”\n",
      "Warning message in xy.coords(x, y, xlabel, ylabel, log):\n",
      "“5352 y values <= 0 omitted from logarithmic plot”\n",
      "Warning message in xy.coords(x, y, xlabel, ylabel, log):\n",
      "“2 x values <= 0 omitted from logarithmic plot”\n",
      "Warning message in xy.coords(x, y, xlabel, ylabel, log):\n",
      "“4949 y values <= 0 omitted from logarithmic plot”\n",
      "Warning message in xy.coords(x, y, xlabel, ylabel, log):\n",
      "“5 x values <= 0 omitted from logarithmic plot”\n",
      "Warning message in xy.coords(x, y, xlabel, ylabel, log):\n",
      "“4879 y values <= 0 omitted from logarithmic plot”\n",
      "Warning message in xy.coords(x, y, xlabel, ylabel, log):\n",
      "“4 x values <= 0 omitted from logarithmic plot”\n",
      "Warning message in xy.coords(x, y, xlabel, ylabel, log):\n",
      "“5011 y values <= 0 omitted from logarithmic plot”\n"
     ]
    }
   ],
   "source": [
    "#\n",
    "# Check how well we can reproduce the full 'max-stage vs exceedance-rate' curve\n",
    "# on segmented/unsegmented branches respectively. This code will make plots.\n",
    "#\n",
    "event_peak_stage = event_peak_stage_at_refpoint[[source_zone]]$max_stage\n",
    "event_Mw = event_peak_stage_at_refpoint[[source_zone]]$Mw\n",
    "inds_for_checking = plot_scenario_stages_with_different_scenario_size_weightings(\n",
    "    event_peak_stage, \n",
    "    event_Mw, \n",
    "    sz_full$HS_event_rates,\n",
    "    pdf_output_name_extra='unsegmented')\n",
    "plot_scenario_stages_with_different_scenario_size_weightings(\n",
    "    event_peak_stage, \n",
    "    event_Mw, \n",
    "    sz_java$HS_event_rates,\n",
    "    pdf_output_name_extra='java_segment')\n",
    "plot_scenario_stages_with_different_scenario_size_weightings(\n",
    "    event_peak_stage, \n",
    "    event_Mw, \n",
    "    sz_sumatra$HS_event_rates,\n",
    "    pdf_output_name_extra='sumatra_segment')\n",
    "plot_scenario_stages_with_different_scenario_size_weightings(\n",
    "    event_peak_stage, \n",
    "    event_Mw, \n",
    "    sz_andaman$HS_event_rates,\n",
    "    pdf_output_name_extra='andaman_segment')\n",
    "plot_scenario_stages_with_different_scenario_size_weightings(\n",
    "    event_peak_stage, \n",
    "    event_Mw, \n",
    "    sz_arakan$HS_event_rates,\n",
    "    pdf_output_name_extra='arakan_segment')"
   ]
  },
  {
   "cell_type": "code",
   "execution_count": 14,
   "metadata": {
    "vscode": {
     "languageId": "r"
    }
   },
   "outputs": [],
   "source": [
    "# Make the samples, with more scenarios at higher magnitudes, and a \"scenario_size\"\n",
    "# proportional to the event_peak_stage.\n",
    "#\n",
    "sampling_setup = list(\n",
    "    'unsegmented' = list(event_rates = sz_full$HS_event_rates), \n",
    "    'java' = list(event_rates = sz_java$HS_event_rates), \n",
    "    'sumatra' = list(event_rates = sz_sumatra$HS_event_rates), \n",
    "    'andaman' = list(event_rates = sz_andaman$HS_event_rates),\n",
    "    'arakan' = list(event_rates = sz_arakan$HS_event_rates)\n",
    "    )\n",
    "random_scenario_info = vector(mode='list', length=length(sampling_setup))\n",
    "names(random_scenario_info) = names(sampling_setup)\n",
    "for(i in 1:length(random_scenario_info)){\n",
    "    # Reproducible random seed -- note we DELIBERATELY SAMPLE THE SAME\n",
    "    # SCENARIOS ON UNSEGMENTED/SEGMENT.\n",
    "    set.seed(REPRODUCIBLE_SEED)\n",
    "\n",
    "    # Here are the magnitude limits where we bother sampling\n",
    "    max_mw_limit = 9.65\n",
    "    min_mw_limit = 7.15\n",
    "\n",
    "    # Take the sample\n",
    "    random_scenario_info[[i]] = ptha18$randomly_sample_scenarios_by_Mw_and_rate(\n",
    "        sampling_setup[[i]]$event_rates,\n",
    "        event_Mw,\n",
    "        event_importance_weighted_sampling_probs=EVENT_IMPORTANCE_WEIGHTED_SAMPLING_PROBS,\n",
    "        samples_per_Mw = samples_per_Mw_FUNCTION,\n",
    "        mw_limits = c(min_mw_limit, max_mw_limit))\n",
    "\n",
    "    # Note we DELIBERATELY SAMPLE THE SAME SCENARIOS ON UNSEGMENTED/SEGMENT.\n",
    "    # Confirm that we did\n",
    "    stopifnot(all(random_scenario_info[[i]]$inds == inds_for_checking))\n",
    "\n",
    "}"
   ]
  },
  {
   "cell_type": "code",
   "execution_count": 15,
   "metadata": {
    "vscode": {
     "languageId": "r"
    }
   },
   "outputs": [
    {
     "data": {
      "text/html": [
       "592"
      ],
      "text/latex": [
       "592"
      ],
      "text/markdown": [
       "592"
      ],
      "text/plain": [
       "[1] 592"
      ]
     },
     "metadata": {},
     "output_type": "display_data"
    }
   ],
   "source": [
    "# How many scenarios will we have to run?\n",
    "length(unique(random_scenario_info[[1]]$inds))\n",
    "\n",
    "# Check we got the expected number of scenarios in each Mw bin \n",
    "sampled_per_mw = aggregate(random_scenario_info[[1]]$inds, \n",
    "    by=list(random_scenario_info[[1]]$mw), function(x){length(x)})$x\n",
    "NN = length(sampled_per_mw) # Skip Mw 9.7, 9.8\n",
    "stopifnot(all(sampled_per_mw == ceiling(samples_per_Mw_data[1:NN,2])))\n",
    "\n",
    "# How many unique scenarios in each Mw bin?\n",
    "unique_sampled_per_mw = aggregate(random_scenario_info[[1]]$inds, \n",
    "    by=list(random_scenario_info[[1]]$mw), function(x){length(unique(x))})$x\n",
    "unique_fraction = unique_sampled_per_mw/sampled_per_mw"
   ]
  },
  {
   "cell_type": "code",
   "execution_count": 16,
   "metadata": {
    "vscode": {
     "languageId": "r"
    }
   },
   "outputs": [],
   "source": [
    "## Write out the scenarios to a csv format\n",
    "##\n",
    "\n",
    "write.csv(random_scenario_info$unsegmented, 'random_scenarios_sunda2_unsegmented_HS.csv', row.names=FALSE)\n",
    "write.csv(random_scenario_info$java, 'random_scenarios_sunda2_java_segment_HS.csv', row.names=FALSE)\n",
    "write.csv(random_scenario_info$sumatra, 'random_scenarios_sunda2_sumatra_segment_HS.csv', row.names=FALSE)\n",
    "write.csv(random_scenario_info$andaman, 'random_scenarios_sunda2_andaman_segment_HS.csv', row.names=FALSE)\n",
    "write.csv(random_scenario_info$arakan, 'random_scenarios_sunda2_arakan_segment_HS.csv', row.names=FALSE)\n"
   ]
  },
  {
   "cell_type": "code",
   "execution_count": 17,
   "metadata": {
    "vscode": {
     "languageId": "r"
    }
   },
   "outputs": [],
   "source": [
    "# Convenient to also store the logic-tree-mean results -- as above, reproducible randomness\n",
    "#\n",
    "set.seed(REPRODUCIBLE_SEED)\n",
    "random_scenarios_mean_curve = ptha18$randomly_sample_scenarios_by_Mw_and_rate(\n",
    "    back_calculated_HS_rates_combination,\n",
    "    event_Mw,\n",
    "    event_importance_weighted_sampling_probs=EVENT_IMPORTANCE_WEIGHTED_SAMPLING_PROBS,\n",
    "    samples_per_Mw = samples_per_Mw_FUNCTION,\n",
    "    mw_limits = c(min_mw_limit, max_mw_limit))\n",
    "stopifnot(all(random_scenarios_mean_curve$inds == inds_for_checking))\n",
    "write.csv(random_scenarios_mean_curve, \n",
    "          'random_scenarios_sunda2_logic_tree_mean_curve_HS.csv', row.names=FALSE)\n",
    "# As above, for the \"SUM-OF-SEGMENTED-MODELS\"\n",
    "set.seed(REPRODUCIBLE_SEED)\n",
    "random_scenarios_segmented_union = ptha18$randomly_sample_scenarios_by_Mw_and_rate(\n",
    "    (sz_java$HS_event_rates + sz_sumatra$HS_event_rates + sz_andaman$HS_event_rates + sz_arakan$HS_event_rates),\n",
    "    event_Mw,\n",
    "    event_importance_weighted_sampling_probs=EVENT_IMPORTANCE_WEIGHTED_SAMPLING_PROBS,\n",
    "    samples_per_Mw = samples_per_Mw_FUNCTION,\n",
    "    mw_limits = c(min_mw_limit, max_mw_limit))\n",
    "stopifnot(all(random_scenarios_segmented_union$inds == inds_for_checking))\n",
    "write.csv(random_scenarios_segmented_union, \n",
    "          'random_scenarios_sunda2_logic_tree_segmented_union_HS.csv', row.names=FALSE)"
   ]
  }
 ],
 "metadata": {
  "kernelspec": {
   "display_name": "R",
   "language": "R",
   "name": "ir"
  },
  "language_info": {
   "codemirror_mode": "r",
   "file_extension": ".r",
   "mimetype": "text/x-r-source",
   "name": "R",
   "pygments_lexer": "r",
   "version": "4.3.1"
  }
 },
 "nbformat": 4,
 "nbformat_minor": 2
}
